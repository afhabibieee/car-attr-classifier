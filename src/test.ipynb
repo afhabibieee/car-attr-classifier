{
 "cells": [
  {
   "cell_type": "code",
   "execution_count": 38,
   "metadata": {},
   "outputs": [],
   "source": [
    "import os\n",
    "import getpass\n",
    "\n",
    "import mlflow\n",
    "from configs import DAGSHUB_USER_NAME, DAGSHUB_REPO_NAME, MODEL_DIR,  DEVICE\n",
    "from utils import get_experiment_id, get_last_run_id\n",
    "\n",
    "from fewshotdataloader import generate_loader, CARS\n",
    "\n",
    "import torch\n",
    "from utils import evaluate"
   ]
  },
  {
   "cell_type": "code",
   "execution_count": 7,
   "metadata": {},
   "outputs": [],
   "source": [
    "mlflow.set_tracking_uri(f'https://dagshub.com/{DAGSHUB_USER_NAME}/{DAGSHUB_REPO_NAME}.mlflow')"
   ]
  },
  {
   "cell_type": "code",
   "execution_count": 12,
   "metadata": {},
   "outputs": [],
   "source": [
    "os.environ['MLFLOW_TRACKING_USERNAME'] = 'afhabibieee'\n",
    "os.environ['MLFLOW_TRACKING_PASSWORD'] = getpass.getpass('enter pass: ')"
   ]
  },
  {
   "cell_type": "code",
   "execution_count": 18,
   "metadata": {},
   "outputs": [],
   "source": [
    "# Use the run id of the selected artifact.\n",
    "RUN_ID = 'abbda0848d0e4aacb6bdcd1eeb0694d8'"
   ]
  },
  {
   "cell_type": "code",
   "execution_count": 19,
   "metadata": {},
   "outputs": [
    {
     "name": "stdout",
     "output_type": "stream",
     "text": [
      "Artifacts downloaded in: ../models/saved model\n",
      "Artifacts: ../models/saved model\n"
     ]
    }
   ],
   "source": [
    "local_path = mlflow.artifacts.download_artifacts(\n",
    "        run_id=RUN_ID,\n",
    "        artifact_path='model',\n",
    "        dst_path=os.path.join(MODEL_DIR, RUN_ID)\n",
    "    )\n",
    "print(\"Artifacts downloaded in: {}\".format(MODEL_DIR))\n",
    "print(\"Artifacts: {}\".format(MODEL_DIR))"
   ]
  },
  {
   "cell_type": "code",
   "execution_count": 20,
   "metadata": {},
   "outputs": [],
   "source": [
    "logged_model = f'runs:/{RUN_ID}/model'\n",
    "\n",
    "# Load model\n",
    "loaded_model = mlflow.pytorch.load_model(logged_model)"
   ]
  },
  {
   "cell_type": "code",
   "execution_count": 35,
   "metadata": {},
   "outputs": [],
   "source": [
    "test_set = CARS(split='test', image_size=84)\n",
    "\n",
    "test_loader = generate_loader(\n",
    "    'test',\n",
    "    image_size=84,\n",
    "    n_way=5,\n",
    "    n_shot=5,\n",
    "    n_query=5,\n",
    "    n_task=100,\n",
    "    n_workers=2        \n",
    ")"
   ]
  },
  {
   "cell_type": "code",
   "execution_count": 37,
   "metadata": {},
   "outputs": [
    {
     "name": "stdout",
     "output_type": "stream",
     "text": [
      "Ground Truth / Predicted\n",
      "Land Rover Discovery 2010-2014 / Land Rover Discovery 2010-2014\n",
      "Land Rover Discovery 2010-2014 / Land Rover Discovery 2010-2014\n",
      "Land Rover Discovery 2010-2014 / Land Rover Discovery 2010-2014\n",
      "Land Rover Discovery 2010-2014 / Land Rover Discovery 2010-2014\n",
      "Land Rover Discovery 2010-2014 / Land Rover Discovery 2010-2014\n",
      "Skoda Hao Rui / Skoda Hao Rui\n",
      "Skoda Hao Rui / Skoda Hao Rui\n",
      "Skoda Hao Rui / Skoda Hao Rui\n",
      "Skoda Hao Rui / Skoda Hao Rui\n",
      "Skoda Hao Rui / Skoda Hao Rui\n",
      "Ford Fiesta 2009 / Ford Fiesta 2009\n",
      "Ford Fiesta 2009 / Ford Fiesta 2009\n",
      "Ford Fiesta 2009 / Ford Fiesta 2009\n",
      "Ford Fiesta 2009 / Ford Fiesta 2009\n",
      "Ford Fiesta 2009 / Ford Fiesta 2009\n",
      "Hyundai Longdong 2012 / Hyundai Longdong 2012\n",
      "Hyundai Longdong 2012 / Hyundai Longdong 2012\n",
      "Hyundai Longdong 2012 / Hyundai Longdong 2012\n",
      "Hyundai Longdong 2012 / Hyundai Longdong 2012\n",
      "Hyundai Longdong 2012 / Hyundai Longdong 2012\n",
      "Nissan Sylphy 2007-2012 New / Nissan Sylphy 2007-2012 New\n",
      "Nissan Sylphy 2007-2012 New / Nissan Sylphy 2007-2012 New\n",
      "Nissan Sylphy 2007-2012 New / Nissan Sylphy 2007-2012 New\n",
      "Nissan Sylphy 2007-2012 New / Nissan Sylphy 2007-2012 New\n",
      "Nissan Sylphy 2007-2012 New / Nissan Sylphy 2007-2012 New\n"
     ]
    }
   ],
   "source": [
    "(\n",
    "    example_support_images,\n",
    "    example_support_labels,\n",
    "    example_query_images,\n",
    "    example_query_labels,\n",
    "    example_class_ids,\n",
    ") = next(iter(test_loader))\n",
    "\n",
    "loaded_model.eval()\n",
    "example_scores = loaded_model(\n",
    "    example_support_images.to(DEVICE),\n",
    "    example_support_labels.to(DEVICE),\n",
    "    example_query_images.to(DEVICE),\n",
    ").detach()\n",
    "\n",
    "_, example_predicted_labels = torch.max(example_scores.data, 1)\n",
    "\n",
    "print(\"Ground Truth / Predicted\")\n",
    "for i in range(len(example_query_labels)):\n",
    "    print(\n",
    "        f\"{test_set.class_names[example_class_ids[example_query_labels[i]]]} / {test_set.class_names[example_class_ids[example_predicted_labels[i]]]}\"\n",
    "    )"
   ]
  },
  {
   "cell_type": "code",
   "execution_count": 41,
   "metadata": {},
   "outputs": [
    {
     "name": "stdout",
     "output_type": "stream",
     "text": [
      "Rata-rata akurasi pada data testing untuk 100 task adalah 0.9628\n"
     ]
    }
   ],
   "source": [
    "print('Rata-rata akurasi pada data testing untuk {} task adalah {}'.\\\n",
    "    format(len(test_loader), evaluate(loaded_model, test_loader)))"
   ]
  },
  {
   "cell_type": "code",
   "execution_count": null,
   "metadata": {},
   "outputs": [],
   "source": []
  }
 ],
 "metadata": {
  "kernelspec": {
   "display_name": "Python 3.10.6 64-bit",
   "language": "python",
   "name": "python3"
  },
  "language_info": {
   "codemirror_mode": {
    "name": "ipython",
    "version": 3
   },
   "file_extension": ".py",
   "mimetype": "text/x-python",
   "name": "python",
   "nbconvert_exporter": "python",
   "pygments_lexer": "ipython3",
   "version": "3.10.6"
  },
  "orig_nbformat": 4,
  "vscode": {
   "interpreter": {
    "hash": "916dbcbb3f70747c44a77c7bcd40155683ae19c65e1c03b4aa3499c5328201f1"
   }
  }
 },
 "nbformat": 4,
 "nbformat_minor": 2
}
