{
 "cells": [
  {
   "cell_type": "code",
   "execution_count": 23,
   "metadata": {},
   "outputs": [],
   "source": [
    "import os, time\n",
    "import getpass\n",
    "\n",
    "import mlflow\n",
    "from configs import DAGSHUB_USER_NAME, DAGSHUB_REPO_NAME, MODEL_DIR,  DEVICE\n",
    "from utils import get_experiment_id, get_last_run_id\n",
    "\n",
    "from fewshotdataloader import generate_loader, CARS\n",
    "\n",
    "import torch\n",
    "from utils import evaluate\n",
    "\n",
    "import warnings\n",
    "warnings.filterwarnings('ignore')\n",
    "warnings.simplefilter('ignore')"
   ]
  },
  {
   "cell_type": "code",
   "execution_count": 4,
   "metadata": {},
   "outputs": [],
   "source": [
    "mlflow.set_tracking_uri(f'https://dagshub.com/{DAGSHUB_USER_NAME}/{DAGSHUB_REPO_NAME}.mlflow')"
   ]
  },
  {
   "cell_type": "code",
   "execution_count": 5,
   "metadata": {},
   "outputs": [],
   "source": [
    "os.environ['MLFLOW_TRACKING_USERNAME'] = 'afhabibieee'\n",
    "os.environ['MLFLOW_TRACKING_PASSWORD'] = getpass.getpass('enter pass: ')"
   ]
  },
  {
   "cell_type": "code",
   "execution_count": 24,
   "metadata": {},
   "outputs": [],
   "source": [
    "def do_inference(\n",
    "        run_id,\n",
    "        n_way=5,\n",
    "        n_shot=5,\n",
    "        n_query=5,\n",
    "        n_task=100,\n",
    "):\n",
    "        # dataset\n",
    "        test_set = CARS(split='test', image_size=84)\n",
    "\n",
    "        test_loader = generate_loader(\n",
    "                'test',\n",
    "                image_size=84,\n",
    "                n_way=n_way,\n",
    "                n_shot=n_shot,\n",
    "                n_query=n_query,\n",
    "                n_task=n_task,\n",
    "                n_workers=2\n",
    "        )\n",
    "\n",
    "        # download model\n",
    "        if not os.path.exists(os.path.join(MODEL_DIR, run_id)):\n",
    "                local_path = mlflow.artifacts.download_artifacts(\n",
    "                        run_id=run_id,\n",
    "                        artifact_path='model',\n",
    "                        dst_path=os.path.join(MODEL_DIR, run_id)\n",
    "                )\n",
    "        print(\"Artifacts downloaded in: {}\".format(MODEL_DIR))\n",
    "        print(\"Artifacts: {}\\n\".format(MODEL_DIR))\n",
    "        \n",
    "        # Load model\n",
    "        logged_model = f'runs:/{run_id}/model'\n",
    "        loaded_model = mlflow.pytorch.load_model(logged_model)\n",
    "\n",
    "        # do inference for one task\n",
    "        (\n",
    "                example_support_images,\n",
    "                example_support_labels,\n",
    "                example_query_images,\n",
    "                example_query_labels,\n",
    "                example_class_ids,\n",
    "        ) = next(iter(test_loader))\n",
    "\n",
    "        start = time.time()\n",
    "        loaded_model.to(DEVICE)\n",
    "        loaded_model.eval()\n",
    "        example_scores = loaded_model(\n",
    "                example_support_images.to(DEVICE),\n",
    "                example_support_labels.to(DEVICE),\n",
    "                example_query_images.to(DEVICE),\n",
    "        ).detach()\n",
    "        _, example_predicted_labels = torch.max(example_scores.data, 1)\n",
    "        end = time.time()\n",
    "        time_exec = (end-start)#*10**3\n",
    "\n",
    "        print(\"Ground Truth / Predicted\")\n",
    "        for i in range(len(example_query_labels)):\n",
    "                print(\n",
    "                        f\"{test_set.class_names[example_class_ids[example_query_labels[i]]]} / {test_set.class_names[example_class_ids[example_predicted_labels[i]]]}\"\n",
    "                )\n",
    "        \n",
    "        print('\\nThe time of inference for one task is : {} s'.format(time_exec))\n",
    "        \n",
    "        start = time.time()\n",
    "        accuracy = evaluate(loaded_model, test_loader)\n",
    "        end = time.time()\n",
    "        time_exec = (end-start)#*10**3\n",
    "\n",
    "        print('\\nThe average accuracy of  the {} tasks in data testing is {}, with an execution time of {} s'.\\\n",
    "                format(len(test_loader), accuracy, time_exec))\n",
    "        "
   ]
  },
  {
   "cell_type": "code",
   "execution_count": 25,
   "metadata": {},
   "outputs": [
    {
     "name": "stdout",
     "output_type": "stream",
     "text": [
      "Artifacts downloaded in: ../models/saved model\n",
      "Artifacts: ../models/saved model\n",
      "\n"
     ]
    },
    {
     "name": "stderr",
     "output_type": "stream",
     "text": [
      "2022/11/24 22:35:21 WARNING mlflow.pytorch: Stored model version '1.12.1+cu102' does not match installed PyTorch version '1.13.0+cpu'\n"
     ]
    },
    {
     "name": "stdout",
     "output_type": "stream",
     "text": [
      "Ground Truth / Predicted\n",
      "Land Rover Discovery 2010-2014 / Land Rover Discovery 2010-2014\n",
      "Land Rover Discovery 2010-2014 / Land Rover Discovery 2010-2014\n",
      "Land Rover Discovery 2010-2014 / Land Rover Discovery 2010-2014\n",
      "Land Rover Discovery 2010-2014 / Land Rover Discovery 2010-2014\n",
      "Land Rover Discovery 2010-2014 / Land Rover Discovery 2010-2014\n",
      "Iveco Body / Iveco Body\n",
      "Iveco Body / Iveco Body\n",
      "Iveco Body / Iveco Body\n",
      "Iveco Body / Iveco Body\n",
      "Iveco Body / Iveco Body\n",
      "Haval H3 2012 / Haval H3 2012\n",
      "Haval H3 2012 / Haval H3 2012\n",
      "Haval H3 2012 / Haval H3 2012\n",
      "Haval H3 2012 / Haval H3 2012\n",
      "Haval H3 2012 / Haval H3 2012\n",
      "Citroen SEGA 2012 / Citroen SEGA 2012\n",
      "Citroen SEGA 2012 / Citroen SEGA 2012\n",
      "Citroen SEGA 2012 / Citroen SEGA 2012\n",
      "Citroen SEGA 2012 / Citroen SEGA 2012\n",
      "Citroen SEGA 2012 / Citroen SEGA 2012\n",
      "Changhe Freda / Changhe Freda\n",
      "Changhe Freda / Changhe Freda\n",
      "Changhe Freda / Changhe Freda\n",
      "Changhe Freda / Changhe Freda\n",
      "Changhe Freda / Changhe Freda\n",
      "\n",
      "The time of inference for one task is : 1.705524206161499 s\n",
      "\n",
      "The average accuracy of  the 100 tasks in data testing is 0.97, with an execution time of 154.26225900650024 s\n"
     ]
    }
   ],
   "source": [
    "# first model\n",
    "run_id = 'c647a2612ffb4440930a5b17da7ab462'\n",
    "do_inference(run_id)"
   ]
  },
  {
   "cell_type": "code",
   "execution_count": 26,
   "metadata": {},
   "outputs": [
    {
     "name": "stdout",
     "output_type": "stream",
     "text": [
      "Artifacts downloaded in: ../models/saved model\n",
      "Artifacts: ../models/saved model\n",
      "\n"
     ]
    },
    {
     "name": "stderr",
     "output_type": "stream",
     "text": [
      "2022/11/24 22:39:09 WARNING mlflow.pytorch: Stored model version '1.12.1+cu102' does not match installed PyTorch version '1.13.0+cpu'\n"
     ]
    },
    {
     "name": "stdout",
     "output_type": "stream",
     "text": [
      "Ground Truth / Predicted\n",
      "Land Rover Discovery 2010-2014 / Land Rover Discovery 2010-2014\n",
      "Land Rover Discovery 2010-2014 / Land Rover Discovery 2010-2014\n",
      "Land Rover Discovery 2010-2014 / Land Rover Discovery 2010-2014\n",
      "Land Rover Discovery 2010-2014 / Land Rover Discovery 2010-2014\n",
      "Land Rover Discovery 2010-2014 / Land Rover Discovery 2010-2014\n",
      "Honda Fit 2008 / Honda Fit 2008\n",
      "Honda Fit 2008 / Honda Fit 2008\n",
      "Honda Fit 2008 / Honda Fit 2008\n",
      "Honda Fit 2008 / Honda Fit 2008\n",
      "Honda Fit 2008 / Honda Fit 2008\n",
      "Mercedes Benz S Class 2011 / Mercedes Benz S Class 2011\n",
      "Mercedes Benz S Class 2011 / Mercedes Benz S Class 2011\n",
      "Mercedes Benz S Class 2011 / Mercedes Benz S Class 2011\n",
      "Mercedes Benz S Class 2011 / Mercedes Benz S Class 2011\n",
      "Mercedes Benz S Class 2011 / Mercedes Benz S Class 2011\n",
      "Changhe Freda / Changhe Freda\n",
      "Changhe Freda / Changhe Freda\n",
      "Changhe Freda / Changhe Freda\n",
      "Changhe Freda / Changhe Freda\n",
      "Changhe Freda / Changhe Freda\n",
      "Hyundai Sonata 14 / Hyundai Sonata 14\n",
      "Hyundai Sonata 14 / Hyundai Sonata 14\n",
      "Hyundai Sonata 14 / Hyundai Sonata 14\n",
      "Hyundai Sonata 14 / Hyundai Sonata 14\n",
      "Hyundai Sonata 14 / Hyundai Sonata 14\n",
      "\n",
      "The time of inference for one task is : 19.28140354156494 s\n",
      "\n",
      "The average accuracy of  the 100 tasks in data testing is 0.9504, with an execution time of 436.99574518203735 s\n"
     ]
    }
   ],
   "source": [
    "# second model\n",
    "run_id = 'abbda0848d0e4aacb6bdcd1eeb0694d8'\n",
    "do_inference(run_id)"
   ]
  }
 ],
 "metadata": {
  "kernelspec": {
   "display_name": "Python 3.10.8 64-bit (microsoft store)",
   "language": "python",
   "name": "python3"
  },
  "language_info": {
   "codemirror_mode": {
    "name": "ipython",
    "version": 3
   },
   "file_extension": ".py",
   "mimetype": "text/x-python",
   "name": "python",
   "nbconvert_exporter": "python",
   "pygments_lexer": "ipython3",
   "version": "3.10.8"
  },
  "orig_nbformat": 4,
  "vscode": {
   "interpreter": {
    "hash": "e0acaf148705ed9ed86cc5cad12259d7985e30670e5686e5f55604a9b3b84a55"
   }
  }
 },
 "nbformat": 4,
 "nbformat_minor": 2
}
